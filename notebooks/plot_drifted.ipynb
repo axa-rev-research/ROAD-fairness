{
 "cells": [
  {
   "cell_type": "code",
   "execution_count": null,
   "id": "266fd6b0",
   "metadata": {
    "ExecuteTime": {
     "end_time": "2023-10-27T02:20:45.267114Z",
     "start_time": "2023-10-27T02:20:45.255142Z"
    }
   },
   "outputs": [],
   "source": [
    "import pandas as pd\n",
    "import numpy as np\n",
    "import seaborn as sns\n",
    "from matplotlib import pyplot as plt\n",
    "from sklearn import datasets as ds\n",
    "import sys, os\n",
    "sys.path.insert(1, os.path.join(sys.path[0], '..'))\n",
    "from utils.fairness_utils import pareto_df"
   ]
  },
  {
   "cell_type": "code",
   "execution_count": null,
   "id": "14146988",
   "metadata": {
    "ExecuteTime": {
     "end_time": "2023-10-27T02:20:23.019152Z",
     "start_time": "2023-10-27T02:20:23.019127Z"
    }
   },
   "outputs": [],
   "source": [
    "%load_ext autoreload\n",
    "%autoreload 2"
   ]
  },
  {
   "cell_type": "code",
   "execution_count": null,
   "id": "988762f7",
   "metadata": {
    "ExecuteTime": {
     "end_time": "2023-10-27T02:20:23.020483Z",
     "start_time": "2023-10-27T02:20:23.020468Z"
    }
   },
   "outputs": [],
   "source": [
    "%matplotlib inline\n",
    "print(2)"
   ]
  },
  {
   "cell_type": "code",
   "execution_count": null,
   "id": "c36b4ef8",
   "metadata": {
    "ExecuteTime": {
     "end_time": "2023-10-26T20:51:50.601179Z",
     "start_time": "2023-10-26T20:51:50.520984Z"
    }
   },
   "outputs": [],
   "source": [
    "FOLDER = \"./../results_Adultdrifted/\"\n",
    "\n",
    "DATASET_NAME = \"ADULT\"\n",
    "\n",
    "NAME2 = \"_ROAD_10_100_12_20\"\n",
    "\n",
    "\n",
    "fROAD_in = \"TEST_\" + DATASET_NAME + NAME2 + \"Shifted_EO.csv\" \n",
    "fROAD2014 = \"TEST_\" + DATASET_NAME + NAME2 + \"2014Shifted_EO.csv\" \n",
    "fROAD2015 = \"TEST_\" + DATASET_NAME + NAME2 +  \"2015Shifted_EO.csv\" \n",
    "\n",
    "\n",
    "# colors\n",
    "#palette = plt.cm.tab20\n",
    "palette = sns.color_palette(\"bright\", 10)\n",
    "\n",
    "METHODS_DICT = {\"fROAD\":  {\"fname_in\":fROAD_in,\n",
    "                          \"fname_2014\":fROAD2014,\n",
    "                          \"fname_2015\":fROAD2015,\n",
    "                          \"name\": \"ROAD (Ours)\",\n",
    "                          \"color\": palette[0]}}\n",
    "\n",
    "for method in METHODS_DICT:\n",
    "    for testfname in [\"fname_in\", \"fname_2014\", \"fname_2015\"]:\n",
    "        df_meth = pd.read_csv(FOLDER + METHODS_DICT[method][testfname], index_col=0)\n",
    "        df_meth[\"lambda\"] = df_meth[\"lambda\"].astype('str')\n",
    "        df_meth[\"lambda\"] = df_meth[\"lambda\"].map(lambda x: x[:4])\n",
    "        df_meth[\"tau\"] = df_meth[\"tau\"].astype('str')\n",
    "        df_meth[\"tau\"] = df_meth[\"tau\"].map(lambda x: x[:4])\n",
    "        df_meth[\"run_id\"] = df_meth[\"run_id\"].astype('str')\n",
    "        \n",
    "        df_meth[\"Global EO\"] = df_meth[\"Global FPR\"] + df_meth[\"Global FNR\"]\n",
    "    \n",
    "\n",
    "    \n",
    "        METHODS_DICT[method][\"df\"+testfname[5:]] = df_meth\n",
    "\n"
   ]
  },
  {
   "cell_type": "code",
   "execution_count": null,
   "id": "43a69f5d",
   "metadata": {
    "ExecuteTime": {
     "end_time": "2023-10-26T20:51:50.617592Z",
     "start_time": "2023-10-26T20:51:50.603577Z"
    }
   },
   "outputs": [],
   "source": [
    "    \n",
    "# for printing labels on figures\n",
    "FEATURE_NAMES = {\"Global DI\": \"Global Fairness (DI)\",\n",
    "                \"Global Acc\": \"Accuracy\",\n",
    "                 \"Global EO\": \"Global Fairness (EO)\",\n",
    "                \"top1_DI\": \"Local Fairness (worst 1 DI)\",\n",
    "                \"top3_DI\": \"Local Fairness (worst 3 DI)\", \n",
    "                \"q_DI_0.8\": \"Local Fairness (0.8 quantile)\"}\n",
    "\n"
   ]
  },
  {
   "cell_type": "markdown",
   "id": "6166f8fe",
   "metadata": {},
   "source": [
    "# Pareto curves"
   ]
  },
  {
   "cell_type": "markdown",
   "id": "75eb9017",
   "metadata": {},
   "source": [
    "## 1. Acc - Local Fairness"
   ]
  },
  {
   "cell_type": "markdown",
   "id": "90c6a6f2",
   "metadata": {},
   "source": [
    "### 1.a Demographic subgroups"
   ]
  },
  {
   "cell_type": "code",
   "execution_count": null,
   "id": "8d7b3a91",
   "metadata": {
    "ExecuteTime": {
     "end_time": "2023-10-26T20:51:54.323966Z",
     "start_time": "2023-10-26T20:51:50.718674Z"
    },
    "scrolled": true
   },
   "outputs": [],
   "source": [
    "%%time\n",
    "\n",
    "#### WARNING/ Slow because of PAreto\n",
    "\n",
    "\n",
    "# Pareto plot Global Acc * top1DI à iso Global DI\n",
    "sns.set_style('whitegrid')\n",
    "\n",
    "sns.set_palette(\"bright\")\n",
    "\n",
    "\n",
    "#### IMPORTANT: this defines the feature to \"fix\" and the corresponding range. E.g.: keeping only models \n",
    "# with GLOBAL DI between 0.0 and 0.05\n",
    "dataf = \"df_in\"\n",
    "iso_f = \"Global DI\"\n",
    "GDIRANGE = 0.0, 1.\n",
    "\n",
    "### FEATURES FOR X AND Y AXES\n",
    "f1, f2 = \"Global EO\", \"Global Acc\"\n",
    "\n",
    "\n",
    "legend_names = []\n",
    "for key in METHODS_DICT:\n",
    "    print( key)\n",
    "    method = METHODS_DICT[key]\n",
    "    try:\n",
    "        df = method[dataf]\n",
    "        color = method[\"color\"]\n",
    "    except KeyError:\n",
    "        print('bug')\n",
    "        continue\n",
    "    \n",
    "    ### PARETO FRONT\n",
    "    dff = pareto_df(df, f1, f2)\n",
    "    g = sns.lineplot(data=dff[dff[\"pareto\"]==1], x=f1, y=f2, color=color, linewidth=3, label=method[\"name\"])\n",
    "    g2 = sns.scatterplot(data=dff[dff[\"pareto\"]==1], x=f1, y=f2, color=color, legend=False, s=30, markers=\"o\")\n",
    "    \n",
    "    legend_names.append(method[\"name\"])\n",
    "\n",
    "g.invert_xaxis()\n",
    "\n",
    "plt.legend(fontsize=12, loc='lower left', frameon=True)\n",
    "\n",
    "\n",
    "\n",
    "plt.xlabel(FEATURE_NAMES[f1], fontsize=17)\n",
    "plt.ylabel(FEATURE_NAMES[f2], fontsize=17)\n",
    "plt.xticks(fontsize=12)\n",
    "plt.yticks(fontsize=12)\n",
    "plt.ylim((0.79, 0.845))\n",
    "plt.title(DATASET_NAME + \" (In-distribution)\", fontsize=17)\n",
    "plt.tight_layout()\n",
    "\n",
    "\n",
    "FNAME = \"./results_img/\"\n",
    "\n",
    "plt.savefig(FNAME + \"adultDRIFT_indistribution_BIS.pdf\")\n"
   ]
  },
  {
   "cell_type": "code",
   "execution_count": null,
   "id": "7e1d5707",
   "metadata": {
    "ExecuteTime": {
     "end_time": "2023-10-26T20:52:25.390147Z",
     "start_time": "2023-10-26T20:51:54.325640Z"
    },
    "scrolled": true
   },
   "outputs": [],
   "source": [
    "%%time\n",
    "\n",
    "#### WARNING/ Slow because of PAreto\n",
    "\n",
    "\n",
    "# Pareto plot Global Acc * top1DI à iso Global DI\n",
    "sns.set_style('whitegrid')\n",
    "\n",
    "sns.set_palette(\"bright\")\n",
    "\n",
    "\n",
    "#### IMPORTANT: this defines the feature to \"fix\" and the corresponding range. E.g.: keeping only models \n",
    "# with GLOBAL DI between 0.0 and 0.05\n",
    "dataf = \"df_2014\"\n",
    "iso_f = \"Global DI\"\n",
    "GDIRANGE = 0.0, 1.\n",
    "\n",
    "### FEATURES FOR X AND Y AXES\n",
    "f1, f2 = \"Global EO\", \"Global Acc\"\n",
    "\n",
    "\n",
    "legend_names = []\n",
    "for key in METHODS_DICT:\n",
    "\n",
    "    print( key)\n",
    "    method = METHODS_DICT[key]\n",
    "    try:\n",
    "        df = method[dataf]\n",
    "        color = method[\"color\"]\n",
    "    except KeyError:\n",
    "        print('bug')\n",
    "        continue\n",
    "    \n",
    "    ### PARETO FRONT\n",
    "    dff = pareto_df(df, f1, f2)\n",
    "\n",
    "    g = sns.lineplot(data=dff[dff[\"pareto\"]==1], x=f1, y=f2, color=color, linewidth=3, label=method[\"name\"])\n",
    "    g2 = sns.scatterplot(data=dff[dff[\"pareto\"]==1], x=f1, y=f2, color=color, legend=False, s=30, markers=\"o\")\n",
    "    \n",
    "    legend_names.append(method[\"name\"])\n",
    "\n",
    "g.invert_xaxis()\n",
    "\n",
    "plt.legend(fontsize=12, loc='lower left', frameon=True)\n",
    "\n",
    "plt.xlabel(FEATURE_NAMES[f1], fontsize=17)\n",
    "plt.ylabel(FEATURE_NAMES[f2], fontsize=17)\n",
    "plt.xticks(fontsize=12)\n",
    "plt.yticks(fontsize=12)\n",
    "plt.ylim((0.63, 0.76))\n",
    "plt.xlim((0.13, 0.00))\n",
    "plt.title(DATASET_NAME + \" (2014)\", fontsize=17)\n",
    "plt.tight_layout()\n",
    "\n",
    "\n",
    "FNAME = \"./results_img/\"\n",
    "\n",
    "plt.savefig(FNAME + \"adultDRIFT_2014bis2.pdf\")\n"
   ]
  },
  {
   "cell_type": "code",
   "execution_count": null,
   "id": "45f09c67",
   "metadata": {
    "ExecuteTime": {
     "end_time": "2023-10-26T20:52:56.656230Z",
     "start_time": "2023-10-26T20:52:25.392330Z"
    }
   },
   "outputs": [],
   "source": [
    "%%time\n",
    "\n",
    "#### WARNING/ Slow because of PAreto\n",
    "\n",
    "\n",
    "# Pareto plot Global Acc * top1DI à iso Global DI\n",
    "sns.set_style('whitegrid')\n",
    "\n",
    "sns.set_palette(\"bright\")\n",
    "\n",
    "\n",
    "#### IMPORTANT: this defines the feature to \"fix\" and the corresponding range. E.g.: keeping only models \n",
    "# with GLOBAL DI between 0.0 and 0.05\n",
    "dataf = \"df_2015\"\n",
    "iso_f = \"Global DI\"\n",
    "GDIRANGE = 0.0, 1.\n",
    "\n",
    "### FEATURES FOR X AND Y AXES\n",
    "f1, f2 = \"Global EO\", \"Global Acc\"\n",
    "\n",
    "\n",
    "legend_names = []\n",
    "for key in METHODS_DICT:\n",
    "    print( key)\n",
    "    method = METHODS_DICT[key]\n",
    "    try:\n",
    "        df = method[dataf]\n",
    "        color = method[\"color\"]\n",
    "    except KeyError:\n",
    "        print('bug')\n",
    "        continue\n",
    "        \n",
    "    ### PARETO FRONT\n",
    "    dff = pareto_df(df, f1, f2)\n",
    "    g = sns.lineplot(data=dff[dff[\"pareto\"]==1], x=f1, y=f2, color=color, linewidth=3, label=method[\"name\"])\n",
    "    g2 = sns.scatterplot(data=dff[dff[\"pareto\"]==1], x=f1, y=f2, color=color, legend=False, s=30, markers=\"o\")\n",
    "    \n",
    "    legend_names.append(method[\"name\"])\n",
    "\n",
    "g.invert_xaxis()\n",
    "\n",
    "plt.legend(fontsize=12, loc='lower left', frameon=True)\n",
    "\n",
    "plt.xlabel(FEATURE_NAMES[f1], fontsize=17)\n",
    "plt.ylabel(FEATURE_NAMES[f2], fontsize=17)\n",
    "plt.xticks(fontsize=12)\n",
    "plt.yticks(fontsize=12)\n",
    "plt.ylim((0.60, 0.77))\n",
    "plt.title(DATASET_NAME + \" (2015)\", fontsize=17)\n",
    "plt.tight_layout()\n",
    "\n",
    "\n",
    "FNAME = \"./results_img/\"\n",
    "\n",
    "plt.savefig(FNAME + \"adultDRIFT_2015bis2.pdf\")\n"
   ]
  },
  {
   "cell_type": "code",
   "execution_count": null,
   "id": "fce1e55a",
   "metadata": {},
   "outputs": [],
   "source": []
  },
  {
   "cell_type": "code",
   "execution_count": null,
   "id": "ae03b4c1",
   "metadata": {},
   "outputs": [],
   "source": []
  },
  {
   "cell_type": "code",
   "execution_count": null,
   "id": "2877747a",
   "metadata": {},
   "outputs": [],
   "source": []
  }
 ],
 "metadata": {
  "kernelspec": {
   "display_name": "Python 3 (ipykernel)",
   "language": "python",
   "name": "python3"
  },
  "language_info": {
   "codemirror_mode": {
    "name": "ipython",
    "version": 3
   },
   "file_extension": ".py",
   "mimetype": "text/x-python",
   "name": "python",
   "nbconvert_exporter": "python",
   "pygments_lexer": "ipython3",
   "version": "3.8.13"
  }
 },
 "nbformat": 4,
 "nbformat_minor": 5
}
